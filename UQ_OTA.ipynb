{
  "cells": [
    {
      "cell_type": "markdown",
      "metadata": {
        "id": "view-in-github",
        "colab_type": "text"
      },
      "source": [
        "<a href=\"https://colab.research.google.com/github/shubhamjha-46/OTA_MAC/blob/main/UQ_OTA.ipynb\" target=\"_parent\"><img src=\"https://colab.research.google.com/assets/colab-badge.svg\" alt=\"Open In Colab\"/></a>"
      ]
    },
    {
      "cell_type": "markdown",
      "source": [
        "**Importing** **Libraries**"
      ],
      "metadata": {
        "id": "WddWQqbSZ_qZ"
      }
    },
    {
      "cell_type": "code",
      "source": [
        "import numpy as np\n",
        "from numpy import linalg as LA\n",
        "import matplotlib\n",
        "import matplotlib.pyplot as plt\n",
        "import sympy as sp\n",
        "import torch\n",
        "torch.set_default_dtype(torch.float64)\n",
        "torch.set_printoptions(precision=2)\n",
        "device = torch.device('cuda') if torch.cuda.is_available() else torch.device('cpu')"
      ],
      "metadata": {
        "id": "ftBe-WhDaFaE"
      },
      "execution_count": 8,
      "outputs": []
    },
    {
      "cell_type": "markdown",
      "source": [
        "**Functions**"
      ],
      "metadata": {
        "id": "JroqmW1MZ5t6"
      }
    },
    {
      "cell_type": "code",
      "source": [
        "### Uniform quantization\n",
        "def UQ(flat_grad, B, v, Q_space):\n",
        "  norm_flat_grad = flat_grad/K\n",
        "  rand_vect = torch.rand(d).to(device)\n",
        "  f = torch.bucketize(norm_flat_grad, Q_space)\n",
        "  q = torch.where(2*B/K/(v-1)*rand_vect<=torch.subtract(norm_flat_grad, Q_space[f-1]), f, f-1)\n",
        "  return(q)\n",
        "\n",
        "### Lattice encoding\n",
        "def LatE(stat, p, num_blocks, w, d_ext):\n",
        "\tstat = torch.concatenate((stat, torch.zeros(int(d_ext-d)).to(device)))\n",
        "\tstat_ext = stat.reshape(int(num_blocks), p)\n",
        "\tcoeff = w**torch.arange(p).to(device)\n",
        "\tlamda  = torch.multiply(stat_ext, coeff)\n",
        "\treturn(torch.sum(lamda, axis = -1))\n",
        "\n",
        "### ASK modulation\n",
        "def ASK(lmbd, r):\n",
        "\treturn(-np.sqrt(P)+lmbd*2*np.sqrt(P)/(r-1))\n",
        "\n",
        "### Minimum-Distance decoding\n",
        "def MD(y_recvd, delt, r):\n",
        "\treturn(torch.round((y_recvd/delt+K*np.sqrt(P)/delt-1/2)))\n",
        "\n",
        "### Lattice decoding (Successive-Cancelllation)\n",
        "def LatD(y_hat, b, w, d_):\n",
        "  if torch.sum(y_hat>= w) == 0 and torch.numel(b) == d_:\n",
        "    return(b)\n",
        "  else:\n",
        "    b = torch.concatenate((b, (y_hat%w).reshape(1,len(y_hat))))\n",
        "    return(LatD((y_hat-y_hat%w)/w, b, w, d_))\n"
      ],
      "metadata": {
        "id": "Ezmm8jy_Ws5V"
      },
      "execution_count": 3,
      "outputs": []
    },
    {
      "cell_type": "markdown",
      "source": [
        "**Main** **code**"
      ],
      "metadata": {
        "id": "68trxEFPat5v"
      }
    },
    {
      "cell_type": "code",
      "source": [
        "d = 64\t\t\t                                                                                #### Dimension\n",
        "cnt = 0\n",
        "B_range = [4096]\n",
        "#B_range = [512, 1024, 2048]\n",
        "MSE1_B = [0]*len(B_range)\n",
        "MSE2_B = [0]*len(B_range)\n",
        "\n",
        "for b in B_range:\n",
        "  np.random.seed(10)\n",
        "  torch.manual_seed(0)\n",
        "  Clients = [200, 400, 600, 800, 1000, 1200, 1400, 1600, 1800, 2000]\n",
        "  MSE1_K = [0]*len(Clients)\n",
        "  MSE2_K = [0]*len(Clients)\n",
        "  I = 20\t\t                                                                                #### monte-carlo iterations\n",
        "  for i in range(len(Clients)):\n",
        "    K = Clients[i]\n",
        "    print('Clients: {}, dimension: {}, MC_iter: {}'.format(K, d, I))\n",
        "    sigma_range = [0.01732]                      #### Sigma range\n",
        "    sig = sigma_range[0]\n",
        "\n",
        "    MSE1_K_sig = [0.0]\n",
        "    MSE2_K_sig = [0.0]\n",
        "\n",
        "    MSE1_K_sig_I = [0.0]*I\n",
        "    MSE2_K_sig_I = [0.0]*I\n",
        "\n",
        "    for k in range(I):\n",
        "      ''' OVER-THE-AIR '''\n",
        "      snr_range = [180]\n",
        "      MSE1_K_sig_I_snr = [0.0]*len(snr_range)\n",
        "      MSE2_K_sig_I_snr = [0.0]*len(snr_range)\n",
        "      mean = 2*(torch.rand(d).to(device)-0.5)                                               #### True gradients in [-1,1]\n",
        "\n",
        "      for l in range(len(snr_range)):\n",
        "        print('\\n Experiment for Iteration = {}, B = {}, SNR = {}dB'.format(k, b, snr_range[l]))\n",
        "        input_avg = torch.zeros(d).to(device)\n",
        "        q_input_avg = torch.zeros(d).to(device)\n",
        "        output_avg = torch.zeros(d).to(device)\n",
        "        psi = []\n",
        "        x_e = []\n",
        "        dbSNR = snr_range[l]                                                                #### SNR in dB\n",
        "        SNR = 10**(dbSNR/10.0)                                                              #### SNR in units/units\n",
        "        npr = 1                                                                             #### Noise power\n",
        "        P = SNR*npr/K                                                                       #### Signal power allowed per client\n",
        "\n",
        "        v = int(np.sqrt(d))+1 if (int(np.sqrt(d)))%2==0 else int(np.sqrt(d))+2\n",
        "        w = K*(v-1) + 1 \t                                                                  #### No. of quantization levels\n",
        "\n",
        "        p = min(d, max(1, int(np.log(np.sqrt(2*K*SNR/np.log(K))+1)/np.log(w))))             #### Block size\n",
        "        num_blocks = int(np.ceil(d/p))\n",
        "        d_ext = num_blocks*p\n",
        "        print('\\n v: {}, w: {}, num Blocks:{}, blocksize: {}'.format(v, w, num_blocks, p))\n",
        "        r = (w**p-1)/K + 1                                                                  #### Number of ASK codewords in transmission\n",
        "        del_ = 2*np.sqrt(P)/(r-1)\n",
        "\n",
        "        for client in range(K):\n",
        "          t = 6*sig*(torch.rand(d).to(device)-0.5)                                          #### Noise in [-3\\sigma, +3\\sigma].\n",
        "          x = mean + t                                                                      #### Noisy gradient in [-1-3sigma, 1+3sigma]\n",
        "          input_avg = x + input_avg                                                         #### E[x] = mean; var(x) = var(t) = 3sig^2 = sig_paper^2/d; norm(x) <= B^2 = B_paper^2 = d(1+3sig)^2\n",
        "\n",
        "          ''' UNIFORM QUANTIZATION '''\n",
        "          B = b*np.sqrt(d)                                                                  #### Maximum norm of noisy grad\n",
        "          Q_space = -B/K + torch.arange(v).to(device)*2*B/K/(v-1)                           #### Quantization points in [-B/K,B/K]\n",
        "          x_uq = UQ(x, B, v, Q_space)\n",
        "          q_input_avg = q_input_avg - B/K + 2*B*x_uq/K/(v-1)\n",
        "\n",
        "          ''' LATTICE ENCODING '''\n",
        "          x_lenc = LatE(x_uq, p, num_blocks, w, d_ext)\n",
        "\n",
        "          ''' ASK MODULATION '''\n",
        "          x_ask  = ASK(x_lenc, r)\n",
        "          psi.append(x_ask)\n",
        "          x_e.append(x_uq)\n",
        "\n",
        "\n",
        "        ''' MAC transmission '''\n",
        "        y = sum(psi)+ np.sqrt(npr)*torch.randn(num_blocks).to(device)                       #### Adding awgn noise\n",
        "        x_hat = MD(y, del_, r)                                                              #### Min-distance Decoding\n",
        "        var = LatD(x_hat, torch.Tensor([]).to(device), w, d_ext)                            #### Lattice Decoding\n",
        "        var = var.transpose(0, 1).flatten()\n",
        "        output = -B + var[:d]*2*B/K/(v-1)                                                   #### Mean estimate of gradients in C_1 group\n",
        "        MSE_1 = output - mean                                                               #### MSE w.r.t true grad (over MAC)\n",
        "        MSE_2 = q_input_avg - mean                                                          #### MSE w.r.t avg. of quant. noisy grad (noiseless channel)\n",
        "        print('Done! Total channel-uses = ', num_blocks)\n",
        "        print('TM:', mean.norm(), 'QEM:', q_input_avg.norm(), 'UQM:', output.norm())\n",
        "        print('UQM ERROR:', MSE_1.norm()*np.sqrt(num_blocks))\n",
        "\n",
        "        MSE1_K_sig_I_snr[l] = MSE_1.norm()*np.sqrt(num_blocks)\n",
        "        MSE2_K_sig_I_snr[l] = MSE_2.norm()*np.sqrt(num_blocks)\n",
        "\n",
        "      MSE1_K_sig_I[k] = MSE1_K_sig_I_snr\n",
        "      MSE2_K_sig_I[k] = MSE2_K_sig_I_snr\n",
        "\n",
        "\n",
        "    MSE1_K_sig = np.array(sum(torch.Tensor(MSE1_K_sig_I)).to('cpu')/I)\n",
        "    MSE2_K_sig = np.array(sum(torch.Tensor(MSE2_K_sig_I)).to('cpu')/I)\n",
        "\n",
        "\n",
        "    MSE1_K[i] = MSE1_K_sig\n",
        "    MSE2_K[i] = MSE2_K_sig\n",
        "\n",
        "  MSE1_B[cnt] = MSE1_K\n",
        "  MSE2_B[cnt] = MSE2_K\n",
        "  cnt+=1\n",
        "\n",
        "#np.savetxt(\"RMSE_CUQ_v_\"+str(v)+\"_\"+str(d)+\".dat\", MSE_CUQ, delimiter =\", \", fmt ='% s')"
      ],
      "metadata": {
        "id": "HYaAEJlLa8nX"
      },
      "execution_count": null,
      "outputs": []
    },
    {
      "cell_type": "markdown",
      "source": [
        "**Plotting**"
      ],
      "metadata": {
        "id": "tsQz-Et_ingZ"
      }
    },
    {
      "cell_type": "code",
      "source": [
        "pts = 14 ## Number of points for plotting. Maximum = len(sigma_range)\n",
        "font = {'weight': 'normal', 'size': 14}\n",
        "matplotlib.rc('font', **font)\n",
        "\n",
        "for b in range(len(B_range)):\n",
        "  B1 = B_range[b]\n",
        "  plt.plot(Clients[:pts], MSE1_B[b][:pts], label='MSE_TM_WZ_OTA')\n",
        "  plt.plot(Clients[:pts], MSE2_B[b][:pts], label='MSE_TM_WZ_OTA (noiseless)')\n",
        "\n",
        "  plt.legend()\n",
        "  plt.xlabel('K')\n",
        "  plt.ylabel('RMSE x l')\n",
        "  #plt.xscale('log')\n",
        "  #plt.yscale('log')\n",
        "  plt.xticks(ticks= Clients[:pts], labels=Clients[:pts])\n",
        "  plt.title('d='+str(d)+', iters='+str(I)+', B/sigma='+str(B1/sig)+'SNR='+str(SNR))\n",
        "  plt.grid()\n",
        "  plt.show()\n",
        "\n",
        "for b in range(len(B_range)):\n",
        "  B1 = B_range[b]\n",
        "  for i in range(len(Clients)):\n",
        "    K = Clients[i]\n",
        "    plt.plot(snr_range[:pts], MSE1_B[b][i][:pts], label='MSE_TM_CUQ_K='+str(K))\n",
        "    plt.plot(snr_range[:pts], MSE2_B[b][i][:pts], label='MSE_TM_CUQ_K='+str(K)+' (noiseless)')\n",
        "    plt.legend()\n",
        "    plt.xlabel('SNR')\n",
        "    plt.ylabel('RMSE')\n",
        "    plt.xticks(ticks= snr_range[:pts], labels=snr_range[:pts])\n",
        "    plt.title('d='+str(d)+', iters='+str(I)+', B/sigma='+str(B1/sigma_range[0]))\n",
        "    plt.grid()\n",
        "    plt.show()\n",
        "\n",
        "b_by_sig = [B_range[b]/sig/np.sqrt(3) for b in range(len(B_range))]\n",
        "\n",
        "\n",
        "MSE1_modified = np.array(MSE1_B).transpose()\n",
        "MSE2_modified = np.array(MSE2_B).transpose()\n",
        "\n",
        "for i in range(len(Clients)):\n",
        "  K = Clients[i]\n",
        "\n",
        "  for k in range(len(snr_range)):\n",
        "    plt.plot(b_by_sig[:pts], MSE1_modified[k][i][:pts], label='MSE_TM_CUQ')\n",
        "    plt.plot(b_by_sig[:pts], MSE2_modified[k][i][:pts], '.', label='MSE_TM_CUQ'+' (noiseless)')\n",
        "    plt.legend()\n",
        "    plt.xlabel('b_by_sig')\n",
        "    plt.ylabel('RMSE')\n",
        "    #plt.xscale('log')\n",
        "    plt.xscale('log')\n",
        "    plt.xticks(ticks= b_by_sig[:pts], labels=b_by_sig[:pts])\n",
        "    plt.title('d='+str(d)+', iter='+str(I)+', K='+str(K)+', SNR = '+str(snr_range[k])+'dB')\n",
        "    plt.grid()\n",
        "    plt.show()\n"
      ],
      "metadata": {
        "id": "jSQ0hw-virFR"
      },
      "execution_count": null,
      "outputs": []
    }
  ],
  "metadata": {
    "colab": {
      "provenance": [],
      "gpuType": "T4",
      "include_colab_link": true
    },
    "kernelspec": {
      "display_name": "Python 3",
      "name": "python3"
    },
    "language_info": {
      "name": "python"
    }
  },
  "nbformat": 4,
  "nbformat_minor": 0
}